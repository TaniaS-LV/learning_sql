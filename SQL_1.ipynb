{
 "cells": [
  {
   "cell_type": "code",
   "execution_count": null,
   "id": "69a6afb9",
   "metadata": {},
   "outputs": [],
   "source": [
    "#Data structure https://ucarecdn.com/bad26356-5e34-4945-a9d4-0748686a6b54/\n",
    "#Data samples https://ucarecdn.com/09eb90ce-ce66-446b-8337-e391caabff1c/ "
   ]
  },
  {
   "cell_type": "code",
   "execution_count": null,
   "id": "2b705517",
   "metadata": {},
   "outputs": [],
   "source": [
    "#Select all orders made by Pavel Baranov (order id, books, price, amount), sorted by order id, then by title\n",
    "## Pavel Baranov client_id = 1 \n",
    "\n",
    "SELECT buy_book.buy_id, book.title, book.price, buy_book.amount\n",
    "FROM buy_book\n",
    "    INNER JOIN buy ON buy_book.buy_id=buy.buy_id\n",
    "    INNER JOIN book ON buy_book.book_id=book.book_id\n",
    "    INNER JOIN client ON buy.client_id=client.client_id\n",
    "WHERE client.client_id = 1\n",
    "ORDER BY buy_id, title;"
   ]
  },
  {
   "cell_type": "code",
   "execution_count": null,
   "id": "46d0ff10",
   "metadata": {},
   "outputs": [],
   "source": [
    "#Count the number of times each book has been ordered, for the book output its author (you need to count how many orders each book appears in).  Output the author's surname and initials, the book title, the last column should be called Количество. Sort the result first by author's surname, then by book title. \n",
    "\n",
    "SELECT author.name_author, book.title, count(buy_book.amount) AS Количество\n",
    "FROM author\n",
    "    INNER JOIN book ON author.author_id = book.author_id\n",
    "    LEFT JOIN buy_book ON book.book_id = buy_book.book_id\n",
    "GROUP BY author.name_author, book.title\n",
    "ORDER BY author.name_author, book.title;"
   ]
  },
  {
   "cell_type": "code",
   "execution_count": null,
   "id": "0259c150",
   "metadata": {},
   "outputs": [],
   "source": [
    "#Output the cities where the customers who placed orders in the online shop live. Enter the number of orders in each city, call this column Количество. Output the information in descending order by number of orders and then in alphabetical order by city name.\n",
    "\n",
    "SELECT name_city, count(client.client_id) AS Количество\n",
    "FROM \n",
    "    client\n",
    "    INNER JOIN buy ON client.client_id = buy.client_id\n",
    "    INNER JOIN city ON client.city_id = city.city_id\n",
    "GROUP BY name_city\n",
    "ORDER BY Количество DESC, name_city"
   ]
  },
  {
   "cell_type": "code",
   "execution_count": null,
   "id": "54c0d152",
   "metadata": {},
   "outputs": [],
   "source": [
    "#Output the numbers of all paid orders and the dates on which they were paid.\n",
    "\n",
    "SELECT buy_id, date_step_end\n",
    "FROM buy_step\n",
    "    INNER JOIN step ON step.step_id = buy_step.step_id\n",
    "WHERE buy_step.step_id = 1 AND date_step_end IS NOT NULL"
   ]
  },
  {
   "cell_type": "code",
   "execution_count": null,
   "id": "fb4d9467",
   "metadata": {},
   "outputs": [],
   "source": [
    "#Output information about each order: its number, who generated it (user name) and its cost (sum of the number of books ordered and their price), sorted by order number. Name the last column Стоимость.\n",
    "\n",
    "SELECT buy.buy_id, name_client, sum(buy_book.amount * book.price) AS Стоимость \n",
    "FROM buy\n",
    "    INNER JOIN client ON buy.client_id = client.client_id\n",
    "    INNER JOIN buy_book ON buy.buy_id = buy_book.buy_id \n",
    "    INNER JOIN book ON book.book_id = buy_book.book_id\n",
    "GROUP BY buy.buy_id, name_client\n",
    "ORDER BY buy.buy_id"
   ]
  },
  {
   "cell_type": "code",
   "execution_count": null,
   "id": "01807c9c",
   "metadata": {},
   "outputs": [],
   "source": [
    "#Display the order numbers (buy_id) and the stages they are currently at. If the order has been delivered - do not display information about it. Sort the information by increasing buy_id.\n",
    "\n",
    "SELECT buy_id, name_step\n",
    "FROM buy_step\n",
    "    INNER JOIN step USING(step_id)\n",
    "WHERE date_step_beg IS NOT NULL AND date_step_end IS NULL     "
   ]
  },
  {
   "cell_type": "code",
   "execution_count": null,
   "id": "cb7f0d22",
   "metadata": {},
   "outputs": [],
   "source": [
    "#The city table for each city shows the number of days the order can be delivered to that city (only the \"Transport\" stage is considered). For those orders that have passed the transportation stage, output the number of days it took for the order to be actually delivered to the city. Also, if the order was delivered late, specify the number of days it was delayed. Otherwise, output 0. Include the order number (buy_id) in the output as well as the calculated columns Number of days and Delay. Output the information sorted by order number.\n",
    "\n",
    "SELECT buy_step.buy_id, DATEDIFF(date_step_end, date_step_beg) AS Количество_дней, IF(DATEDIFF(date_step_end, date_step_beg) > days_delivery, DATEDIFF(date_step_end, date_step_beg) - days_delivery, 0) AS Опоздание\n",
    "FROM buy_step\n",
    "    INNER JOIN buy USING(buy_id)\n",
    "    INNER JOIN client USING(client_id)\n",
    "    INNER JOIN city USING(city_id)\n",
    "WHERE buy_step.step_id = 3 AND date_step_end IS NOT NULL"
   ]
  },
  {
   "cell_type": "code",
   "execution_count": null,
   "id": "b43a6bb3",
   "metadata": {},
   "outputs": [],
   "source": [
    "#Select all the customers who have ordered books by Dostoevsky, display the information in alphabetical order. Use the author's surname in the solution, not the author's id.\n",
    "\n",
    "SELECT name_client\n",
    "FROM buy_book\n",
    "    INNER JOIN book USING (book_id)\n",
    "    INNER JOIN author USING (author_id)\n",
    "    INNER JOIN buy USING (buy_id)\n",
    "    INNER JOIN client USING (client_id)\n",
    "WHERE name_author LIKE \"Достоевский%\" \n",
    "GROUP BY name_client \n",
    "ORDER BY name_client"
   ]
  },
  {
   "cell_type": "code",
   "execution_count": null,
   "id": "7f03c453",
   "metadata": {},
   "outputs": [],
   "source": [
    "#Output the genre (or genres) in which the most copies of books were ordered, indicate this number. Name the last column Количество.\n",
    "\n",
    "SELECT name_genre, sum(buy_book.amount) AS  Количество\n",
    "FROM buy_book\n",
    "    INNER JOIN book USING (book_id)\n",
    "    INNER JOIN genre USING (genre_id)\n",
    "GROUP BY name_genre\n",
    "HAVING Количество = \n",
    "(SELECT max(Количество)\n",
    "FROM \n",
    "    (SELECT name_genre, sum(buy_book.amount) AS Количество\n",
    "    FROM buy_book\n",
    "        INNER JOIN book USING (book_id)\n",
    "        INNER JOIN genre USING (genre_id)\n",
    "    GROUP BY name_genre) AS query)\n"
   ]
  },
  {
   "cell_type": "code",
   "execution_count": null,
   "id": "a875bbec",
   "metadata": {},
   "outputs": [],
   "source": [
    "#Compare the monthly revenue from book sales for the current year and the previous year. To do this, output the year, month, amount of revenue sorted first by months, then by years. Column names: Год, Месяц, Сумма\n",
    "\n",
    "SELECT YEAR(date_step_end) AS Год, MONTHNAME(date_step_end) AS Месяц, sum(buy_book.amount*price) AS Сумма\n",
    "FROM\n",
    "    buy_book\n",
    "    INNER JOIN buy_step USING (buy_id)\n",
    "    INNER JOIN book USING (book_id)\n",
    "WHERE buy_step.step_id = 1  AND date_step_end IS NOT NULL\n",
    "GROUP BY Год, Месяц\n",
    "UNION ALL \n",
    "SELECT YEAR(date_payment) AS Год, MONTHNAME(date_payment) AS Месяц, sum(amount*price) AS Сумма\n",
    "FROM buy_archive\n",
    "GROUP BY Год, Месяц\n",
    "ORDER BY Месяц, Год"
   ]
  },
  {
   "cell_type": "code",
   "execution_count": null,
   "id": "950503f5",
   "metadata": {},
   "outputs": [],
   "source": [
    "#For each individual book, you need to output information about the number of copies sold and their value for 2020 and 2019 . The calculated columns are called Quantity and Amount. Sort the information in descending order of value.\n",
    "\n",
    "SELECT title, sum(Количество) AS Количество, sum(Сумма) AS Сумма\n",
    "FROM \n",
    "    (SELECT title, sum(buy_archive.amount) AS Количество, sum(buy_archive.amount*buy_archive.price) AS Сумма\n",
    "    FROM \n",
    "        buy_archive \n",
    "        INNER JOIN book USING(book_id)\n",
    "    GROUP BY title\n",
    "    UNION \n",
    "    SELECT title, sum(buy_book.amount) AS Количество, sum(buy_book.amount * price) AS Сумма\n",
    "    FROM \n",
    "        buy_book \n",
    "        INNER JOIN book USING(book_id)\n",
    "        INNER JOIN buy_step USING(buy_id)\n",
    "    WHERE step_id = 1 AND date_step_end IS NOT NULL \n",
    "    GROUP BY title) query_1\n",
    "GROUP BY title\n",
    "ORDER BY Сумма DESC"
   ]
  },
  {
   "cell_type": "code",
   "execution_count": null,
   "id": "ad6319af",
   "metadata": {},
   "outputs": [],
   "source": []
  }
 ],
 "metadata": {
  "kernelspec": {
   "display_name": "Python 3",
   "language": "python",
   "name": "python3"
  },
  "language_info": {
   "codemirror_mode": {
    "name": "ipython",
    "version": 3
   },
   "file_extension": ".py",
   "mimetype": "text/x-python",
   "name": "python",
   "nbconvert_exporter": "python",
   "pygments_lexer": "ipython3",
   "version": "3.8.8"
  }
 },
 "nbformat": 4,
 "nbformat_minor": 5
}
