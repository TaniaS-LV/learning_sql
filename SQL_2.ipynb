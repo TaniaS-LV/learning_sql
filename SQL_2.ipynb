{
 "cells": [
  {
   "cell_type": "code",
   "execution_count": null,
   "id": "542ef892",
   "metadata": {},
   "outputs": [],
   "source": [
    "#Include a new person in the client table. His name is Popov Ilya, his email is popov@test and he lives in Moscow.\n",
    "\n",
    "INSERT INTO client (name_client, city_id, email)\n",
    "SELECT \"Попов Илья\", city_id, \"popov@test\"\n",
    "FROM city\n",
    "WHERE name_city = \"Москва\";"
   ]
  },
  {
   "cell_type": "code",
   "execution_count": null,
   "id": "a8d7c07d",
   "metadata": {},
   "outputs": [],
   "source": [
    "#Create a new order for Ilya Popov. His comment for the order is 'Contact me about delivery'.\n",
    "\n",
    "INSERT INTO buy (buy_description, client_id) \n",
    "SELECT \"Связаться со мной по вопросу доставки\", client_id\n",
    "FROM client\n",
    "WHERE name_client = \"Попов Илья\";"
   ]
  },
  {
   "cell_type": "code",
   "execution_count": null,
   "id": "f91ace5f",
   "metadata": {},
   "outputs": [],
   "source": [
    "#Add order number 5 to the buy_book table. This order should contain two copies of Pasternak's \"Lyrics\" and one copy of Bulgakov's \"White Guard\".\n",
    "\n",
    "INSERT INTO buy_book (buy_id, book_id, amount)\n",
    "SELECT 5, book_id, 2 \n",
    "FROM book\n",
    "WHERE title = \"Лирика\";\n",
    "    \n",
    "INSERT INTO buy_book (buy_id, book_id, amount)\n",
    "SELECT 5, book_id, 1 \n",
    "FROM book\n",
    "WHERE title = \"Белая гвардия\";\n",
    "\n",
    "#Alternative solution\n",
    "INSERT INTO buy_book (buy_id, book_id, amount)\n",
    "VALUES (5, (SELECT book_id FROM book WHERE title = \"Лирика\"), 2);\n",
    "\n",
    "INSERT INTO buy_book (buy_id, book_id, amount)\n",
    "VALUES (5, (SELECT book_id FROM book WHERE title = \"Белая гвардия\"), 1); "
   ]
  },
  {
   "cell_type": "code",
   "execution_count": null,
   "id": "268cb90d",
   "metadata": {},
   "outputs": [],
   "source": [
    "#Reduce the number of those books in stock that were included in order number 5.\n",
    "\n",
    "UPDATE book, buy_book\n",
    "SET book.amount = book.amount - buy_book.amount\n",
    "WHERE book.book_id = buy_book.book_id AND buy_book.buy_id = 5;"
   ]
  },
  {
   "cell_type": "code",
   "execution_count": null,
   "id": "167e0e92",
   "metadata": {},
   "outputs": [],
   "source": [
    "#Create an invoice (buy_pay table) to pay for the order with number 5, including the name of the books, their author, price, number of books ordered and cost. Name the last column Cost. Enter the information in the table sorted by book title.\n",
    "\n",
    "CREATE TABLE buy_pay AS \n",
    "SELECT title, name_author, price, buy_book.amount, price * buy_book.amount AS Стоимость\n",
    "FROM \n",
    "    book\n",
    "    INNER JOIN buy_book USING (book_id)\n",
    "    INNER JOIN author USING (author_id)\n",
    "WHERE buy_book.buy_id = 5\n",
    "ORDER BY title;\n",
    "    \n",
    "SELECT * FROM buy_pay;"
   ]
  },
  {
   "cell_type": "code",
   "execution_count": null,
   "id": "4b82eb88",
   "metadata": {},
   "outputs": [],
   "source": [
    "#Create a total invoice (buy_pay table) to pay for the order with order number 5. Where to include the order number, the number of books in the order (column name Quantity) and its total cost (column name Total). Use ONE query for the solution.\n",
    "\n",
    "CREATE TABLE buy_pay AS \n",
    "SELECT buy_id, sum(Количество) AS Количество, sum(Стоимость) AS Итого\n",
    "FROM (\n",
    "    SELECT buy_id, title, name_author, price, buy_book.amount AS Количество, price * buy_book.amount AS Стоимость\n",
    "    FROM \n",
    "        book\n",
    "        INNER JOIN buy_book USING (book_id)\n",
    "        INNER JOIN author USING (author_id)\n",
    "    WHERE buy_book.buy_id = 5\n",
    "    ORDER BY title) query_1\n",
    "GROUP BY buy_id\n",
    "HAVING buy_id = 5;"
   ]
  },
  {
   "cell_type": "code",
   "execution_count": null,
   "id": "37815859",
   "metadata": {},
   "outputs": [],
   "source": [
    "#In the buy_step table for order number 5, include all steps from the step table that this order must complete. Enter Null in the date_step_beg and date_step_end columns of all entries.\n",
    "\n",
    "INSERT INTO buy_step (buy_id, step_id)\n",
    "SELECT 5, step_id \n",
    "    FROM (SELECT DISTINCT(step_id)\n",
    "        FROM step) q;\n",
    "\n",
    "SELECT * FROM buy_step;"
   ]
  },
  {
   "cell_type": "code",
   "execution_count": null,
   "id": "b5cad78b",
   "metadata": {},
   "outputs": [],
   "source": [
    "#In the buy_step table, enter the date 12.04.2020 for the order number 5.\n",
    "\n",
    "UPDATE buy_step\n",
    "SET date_step_beg = \"2020.04.12\"\n",
    "WHERE buy_id = 5 AND step_id = 1;"
   ]
  },
  {
   "cell_type": "code",
   "execution_count": null,
   "id": "ee65da33",
   "metadata": {},
   "outputs": [],
   "source": [
    "#Complete the \"Payment\" step for order number 5 by entering date 13.04.2020 in the date_step_end column and start the next step (\"Packing\") by entering the same date in the date_step_beg column for this step.\n",
    "\n",
    "UPDATE buy_step\n",
    "SET date_step_end= \"2020.04.13\"\n",
    "WHERE buy_id = 5 AND step_id = 1;\n",
    "\n",
    "UPDATE buy_step\n",
    "SET date_step_beg = \"2020.04.13\"\n",
    "WHERE buy_id = 5 AND step_id = 2;"
   ]
  }
 ],
 "metadata": {
  "kernelspec": {
   "display_name": "Python 3",
   "language": "python",
   "name": "python3"
  },
  "language_info": {
   "codemirror_mode": {
    "name": "ipython",
    "version": 3
   },
   "file_extension": ".py",
   "mimetype": "text/x-python",
   "name": "python",
   "nbconvert_exporter": "python",
   "pygments_lexer": "ipython3",
   "version": "3.8.8"
  }
 },
 "nbformat": 4,
 "nbformat_minor": 5
}
